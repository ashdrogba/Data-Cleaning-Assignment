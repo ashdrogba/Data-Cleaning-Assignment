{
 "cells": [
  {
   "cell_type": "code",
   "execution_count": 245,
   "metadata": {},
   "outputs": [
    {
     "name": "stdout",
     "output_type": "stream",
     "text": [
      "            From_To  FlightNumber  RecentDelays              Airline\n",
      "0      LoNDon_paris       10045.0      [23, 47]               KLM(!)\n",
      "1      MAdrid_miLAN           NaN            []    <Air France> (12)\n",
      "2  londON_StockhOlm       10065.0  [24, 43, 87]  (British Airways. )\n",
      "3    Budapest_PaRis           NaN          [13]       12. Air France\n",
      "4   Brussels_londOn       10085.0      [67, 32]          \"Swiss Air\"\n"
     ]
    }
   ],
   "source": [
    "import pandas as pd\n",
    "import numpy as np\n",
    "import re\n",
    "\n",
    "df = pd.DataFrame({'From_To': ['LoNDon_paris', 'MAdrid_miLAN','londON_StockhOlm','Budapest_PaRis', 'Brussels_londOn'], 'FlightNumber': [10045, np.nan, 10065, np.nan, 10085], 'RecentDelays': [[23, 47], [], [24, 43, 87], [13], [67, 32]], 'Airline': ['KLM(!)', '<Air France> (12)', '(British Airways. )', '12. Air France', '\"Swiss Air\"']})\n",
    "print(df.head())\n"
   ]
  },
  {
   "cell_type": "code",
   "execution_count": 246,
   "metadata": {},
   "outputs": [
    {
     "name": "stdout",
     "output_type": "stream",
     "text": [
      "            From_To  FlightNumber  RecentDelays              Airline\n",
      "0      LoNDon_paris         10045      [23, 47]               KLM(!)\n",
      "1      MAdrid_miLAN         10055            []    <Air France> (12)\n",
      "2  londON_StockhOlm         10065  [24, 43, 87]  (British Airways. )\n",
      "3    Budapest_PaRis         10075          [13]       12. Air France\n",
      "4   Brussels_londOn         10085      [67, 32]          \"Swiss Air\"\n"
     ]
    }
   ],
   "source": [
    "df['FlightNumber'] = df['FlightNumber'].interpolate().astype(int)\n",
    "print(df.head())"
   ]
  },
  {
   "cell_type": "code",
   "execution_count": 247,
   "metadata": {},
   "outputs": [
    {
     "name": "stdout",
     "output_type": "stream",
     "text": [
      "   FlightNumber      From         To  RecentDelays              Airline\n",
      "0         10045    London      Paris      [23, 47]               KLM(!)\n",
      "1         10055    Madrid      Milan            []    <Air France> (12)\n",
      "2         10065    London  Stockholm  [24, 43, 87]  (British Airways. )\n",
      "3         10075  Budapest      Paris          [13]       12. Air France\n",
      "4         10085  Brussels     London      [67, 32]          \"Swiss Air\"\n"
     ]
    }
   ],
   "source": [
    "tempdf = pd.DataFrame()\n",
    "tempdf['From'] = df['From_To'].str.split('_').str[0].str.capitalize()\n",
    "tempdf['To'] = df['From_To'].str.split('_').str[1].str.capitalize()\n",
    "df.pop('From_To')\n",
    "df.insert(loc = 1, column = \"From\", value = tempdf['From'])\n",
    "df.insert(loc = 2,column = \"To\", value = tempdf['To'])\n",
    "print(df.head())"
   ]
  },
  {
   "cell_type": "code",
   "execution_count": 248,
   "metadata": {},
   "outputs": [
    {
     "name": "stdout",
     "output_type": "stream",
     "text": [
      "   FlightNumber      From         To  delay_1  delay_2  delay_3  \\\n",
      "0         10045    London      Paris     23.0     47.0      NaN   \n",
      "1         10055    Madrid      Milan      NaN      NaN      NaN   \n",
      "2         10065    London  Stockholm     24.0     43.0     87.0   \n",
      "3         10075  Budapest      Paris     13.0      NaN      NaN   \n",
      "4         10085  Brussels     London     67.0     32.0      NaN   \n",
      "\n",
      "               Airline  \n",
      "0               KLM(!)  \n",
      "1    <Air France> (12)  \n",
      "2  (British Airways. )  \n",
      "3       12. Air France  \n",
      "4          \"Swiss Air\"  \n"
     ]
    }
   ],
   "source": [
    "delays = pd.DataFrame(df.RecentDelays.values.tolist())\n",
    "delays.columns = ['delay_1', 'delay_2', 'delay_3']\n",
    "df.pop('RecentDelays')\n",
    "df.insert(loc = 3, column = \"delay_1\", value = delays['delay_1'])\n",
    "df.insert(loc = 4, column = \"delay_2\", value = delays['delay_2'])\n",
    "df.insert(loc = 5, column = \"delay_3\", value = delays['delay_3'])\n",
    "print(df.head())"
   ]
  },
  {
   "cell_type": "code",
   "execution_count": 249,
   "metadata": {},
   "outputs": [
    {
     "name": "stdout",
     "output_type": "stream",
     "text": [
      "   FlightNumber      From         To  delay_1  delay_2  delay_3  \\\n",
      "0         10045    London      Paris     23.0     47.0      NaN   \n",
      "1         10055    Madrid      Milan      NaN      NaN      NaN   \n",
      "2         10065    London  Stockholm     24.0     43.0     87.0   \n",
      "3         10075  Budapest      Paris     13.0      NaN      NaN   \n",
      "4         10085  Brussels     London     67.0     32.0      NaN   \n",
      "\n",
      "            Airline  \n",
      "0               KLM  \n",
      "1       Air France   \n",
      "2  British Airways   \n",
      "3        Air France  \n",
      "4         Swiss Air  \n"
     ]
    }
   ],
   "source": [
    "df['Airline'] = df['Airline'].apply(lambda x: re.sub(r\"[\\d,@)\\\"(?\\.$%_<>!]\", '', x))\n",
    "df.style.set_properties(**{'text-align': 'left'})\n",
    "print(df.head())"
   ]
  }
 ],
 "metadata": {
  "kernelspec": {
   "display_name": "Python 3",
   "language": "python",
   "name": "python3"
  },
  "language_info": {
   "codemirror_mode": {
    "name": "ipython",
    "version": 3
   },
   "file_extension": ".py",
   "mimetype": "text/x-python",
   "name": "python",
   "nbconvert_exporter": "python",
   "pygments_lexer": "ipython3",
   "version": "3.7.4"
  }
 },
 "nbformat": 4,
 "nbformat_minor": 2
}
